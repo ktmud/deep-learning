{
 "cells": [
  {
   "cell_type": "markdown",
   "metadata": {
    "collapsed": true
   },
   "source": [
    "# Image Classification\n",
    "In this project, you'll classify images from the [CIFAR-10 dataset](https://www.cs.toronto.edu/~kriz/cifar.html).  The dataset consists of airplanes, dogs, cats, and other objects. You'll preprocess the images, then train a convolutional neural network on all the samples. The images need to be normalized and the labels need to be one-hot encoded.  You'll get to apply what you learned and build a convolutional, max pooling, dropout, and fully connected layers.  At the end, you'll get to see your neural network's predictions on the sample images.\n",
    "## Get the Data\n",
    "Run the following cell to download the [CIFAR-10 dataset for python](https://www.cs.toronto.edu/~kriz/cifar-10-python.tar.gz)."
   ]
  },
  {
   "cell_type": "code",
   "execution_count": 1,
   "metadata": {},
   "outputs": [
    {
     "name": "stderr",
     "output_type": "stream",
     "text": [
      "CIFAR-10 Dataset: 171MB [01:53, 1.51MB/s]                              \n"
     ]
    },
    {
     "name": "stdout",
     "output_type": "stream",
     "text": [
      "All files found!\n"
     ]
    }
   ],
   "source": [
    "\"\"\"\n",
    "DON'T MODIFY ANYTHING IN THIS CELL THAT IS BELOW THIS LINE\n",
    "\"\"\"\n",
    "from urllib.request import urlretrieve\n",
    "from os.path import isfile, isdir\n",
    "from tqdm import tqdm\n",
    "import problem_unittests as tests\n",
    "import tarfile\n",
    "\n",
    "cifar10_dataset_folder_path = 'cifar-10-batches-py'\n",
    "\n",
    "# Use Floyd's cifar-10 dataset if present\n",
    "floyd_cifar10_location = '/cifar/cifar-10-python.tar.gz'\n",
    "if isfile(floyd_cifar10_location):\n",
    "    tar_gz_path = floyd_cifar10_location\n",
    "else:\n",
    "    tar_gz_path = 'cifar-10-python.tar.gz'\n",
    "\n",
    "class DLProgress(tqdm):\n",
    "    last_block = 0\n",
    "\n",
    "    def hook(self, block_num=1, block_size=1, total_size=None):\n",
    "        self.total = total_size\n",
    "        self.update((block_num - self.last_block) * block_size)\n",
    "        self.last_block = block_num\n",
    "\n",
    "if not isfile(tar_gz_path):\n",
    "    with DLProgress(unit='B', unit_scale=True, miniters=1, desc='CIFAR-10 Dataset') as pbar:\n",
    "        urlretrieve(\n",
    "            'https://www.cs.toronto.edu/~kriz/cifar-10-python.tar.gz',\n",
    "            tar_gz_path,\n",
    "            pbar.hook)\n",
    "\n",
    "if not isdir(cifar10_dataset_folder_path):\n",
    "    with tarfile.open(tar_gz_path) as tar:\n",
    "        tar.extractall()\n",
    "        tar.close()\n",
    "\n",
    "\n",
    "tests.test_folder_path(cifar10_dataset_folder_path)"
   ]
  },
  {
   "cell_type": "markdown",
   "metadata": {},
   "source": [
    "## Explore the Data\n",
    "The dataset is broken into batches to prevent your machine from running out of memory.  The CIFAR-10 dataset consists of 5 batches, named `data_batch_1`, `data_batch_2`, etc.. Each batch contains the labels and images that are one of the following:\n",
    "* airplane\n",
    "* automobile\n",
    "* bird\n",
    "* cat\n",
    "* deer\n",
    "* dog\n",
    "* frog\n",
    "* horse\n",
    "* ship\n",
    "* truck\n",
    "\n",
    "Understanding a dataset is part of making predictions on the data.  Play around with the code cell below by changing the `batch_id` and `sample_id`. The `batch_id` is the id for a batch (1-5). The `sample_id` is the id for a image and label pair in the batch.\n",
    "\n",
    "Ask yourself \"What are all possible labels?\", \"What is the range of values for the image data?\", \"Are the labels in order or random?\".  Answers to questions like these will help you preprocess the data and end up with better predictions."
   ]
  },
  {
   "cell_type": "code",
   "execution_count": 3,
   "metadata": {},
   "outputs": [
    {
     "name": "stdout",
     "output_type": "stream",
     "text": [
      "\n",
      "Stats of batch 2:\n",
      "Samples: 10000\n",
      "Label Counts: {0: 984, 1: 1007, 2: 1010, 3: 995, 4: 1010, 5: 988, 6: 1008, 7: 1026, 8: 987, 9: 985}\n",
      "First 20 Labels: [1, 6, 6, 8, 8, 3, 4, 6, 0, 6, 0, 3, 6, 6, 5, 4, 8, 3, 2, 6]\n",
      "\n",
      "Example of Image 5:\n",
      "Image - Min Value: 3 Max Value: 219\n",
      "Image - Shape: (32, 32, 3)\n",
      "Label - Label Id: 3 Name: cat\n"
     ]
    },
    {
     "data": {
      "image/png": "[encoded data removed]",
      "text/plain": [
       "<matplotlib.figure.Figure at 0x12d0994a8>"
      ]
     },
     "metadata": {
      "image/png": {
       "height": 250,
       "width": 253
      }
     },
     "output_type": "display_data"
    }
   ],
   "source": [
    "%matplotlib inline\n",
    "%config InlineBackend.figure_format = 'retina'\n",
    "\n",
    "import helper\n",
    "import numpy as np\n",
    "\n",
    "# Explore the dataset\n",
    "batch_id = 2\n",
    "sample_id = 5\n",
    "helper.display_stats(cifar10_dataset_folder_path, batch_id, sample_id)"
   ]
  },
  {
   "cell_type": "markdown",
   "metadata": {},
   "source": [
    "## Implement Preprocess Functions\n",
    "### Normalize\n",
    "In the cell below, implement the `normalize` function to take in image data, `x`, and return it as a normalized Numpy array. The values should be in the range of 0 to 1, inclusive.  The return object should be the same shape as `x`."
   ]
  },
  {
   "cell_type": "code",
   "execution_count": 5,
   "metadata": {},
   "outputs": [
    {
     "name": "stdout",
     "output_type": "stream",
     "text": [
      "Tests Passed\n"
     ]
    }
   ],
   "source": [
    "def normalize(x):\n",
    "    \"\"\"\n",
    "    Normalize a list of sample image data in the range of 0 to 1\n",
    "    : x: List of image data.  The image shape is (32, 32, 3)\n",
    "    : return: Numpy array of normalize data\n",
    "    \"\"\"\n",
    "    return x / 255\n",
    "\n",
    "\n",
    "\"\"\"\n",
    "DON'T MODIFY ANYTHING IN THIS CELL THAT IS BELOW THIS LINE\n",
    "\"\"\"\n",
    "tests.test_normalize(normalize)"
   ]
  },
  {
   "cell_type": "markdown",
   "metadata": {},
   "source": [
    "### One-hot encode\n",
    "Just like the previous code cell, you'll be implementing a function for preprocessing.  This time, you'll implement the `one_hot_encode` function. The input, `x`, are a list of labels.  Implement the function to return the list of labels as One-Hot encoded Numpy array.  The possible values for labels are 0 to 9. The one-hot encoding function should return the same encoding for each value between each call to `one_hot_encode`.  Make sure to save the map of encodings outside the function.\n",
    "\n",
    "Hint: Don't reinvent the wheel."
   ]
  },
  {
   "cell_type": "code",
   "execution_count": 12,
   "metadata": {},
   "outputs": [
    {
     "name": "stdout",
     "output_type": "stream",
     "text": [
      "Tests Passed\n"
     ]
    }
   ],
   "source": [
    "lb = np.eye(10)\n",
    "\n",
    "def one_hot_encode(x):\n",
    "    \"\"\"\n",
    "    One hot encode a list of sample labels. Return a one-hot encoded vector for each label.\n",
    "    : x: List of sample Labels\n",
    "    : return: Numpy array of one-hot encoded labels\n",
    "    \"\"\"\n",
    "    return lb[x]\n",
    "\n",
    "\n",
    "\"\"\"\n",
    "DON'T MODIFY ANYTHING IN THIS CELL THAT IS BELOW THIS LINE\n",
    "\"\"\"\n",
    "tests.test_one_hot_encode(one_hot_encode)"
   ]
  },
  {
   "cell_type": "markdown",
   "metadata": {},
   "source": [
    "### Randomize Data\n",
    "As you saw from exploring the data above, the order of the samples are randomized.  It doesn't hurt to randomize it again, but you don't need to for this dataset."
   ]
  },
  {
   "cell_type": "markdown",
   "metadata": {},
   "source": [
    "## Preprocess all the data and save it\n",
    "Running the code cell below will preprocess all the CIFAR-10 data and save it to file. The code below also uses 10% of the training data for validation."
   ]
  },
  {
   "cell_type": "code",
   "execution_count": 13,
   "metadata": {
    "collapsed": true
   },
   "outputs": [],
   "source": [
    "\"\"\"\n",
    "DON'T MODIFY ANYTHING IN THIS CELL\n",
    "\"\"\"\n",
    "# Preprocess Training, Validation, and Testing Data\n",
    "helper.preprocess_and_save_data(cifar10_dataset_folder_path, normalize, one_hot_encode)"
   ]
  },
  {
   "cell_type": "markdown",
   "metadata": {},
   "source": [
    "# Check Point\n",
    "This is your first checkpoint.  If you ever decide to come back to this notebook or have to restart the notebook, you can start from here.  The preprocessed data has been saved to disk."
   ]
  },
  {
   "cell_type": "code",
   "execution_count": 1,
   "metadata": {
    "collapsed": true
   },
   "outputs": [],
   "source": [
    "\"\"\"\n",
    "DON'T MODIFY ANYTHING IN THIS CELL\n",
    "\"\"\"\n",
    "import pickle\n",
    "import problem_unittests as tests\n",
    "import helper\n",
    "\n",
    "# Load the Preprocessed Validation data\n",
    "valid_features, valid_labels = pickle.load(open('preprocess_validation.p', mode='rb'))"
   ]
  },
  {
   "cell_type": "markdown",
   "metadata": {},
   "source": [
    "## Build the network\n",
    "For the neural network, you'll build each layer into a function.  Most of the code you've seen has been outside of functions. To test your code more thoroughly, we require that you put each layer in a function.  This allows us to give you better feedback and test for simple mistakes using our unittests before you submit your project.\n",
    "\n",
    ">**Note:** If you're finding it hard to dedicate enough time for this course each week, we've provided a small shortcut to this part of the project. In the next couple of problems, you'll have the option to use classes from the [TensorFlow Layers](https://www.tensorflow.org/api_docs/python/tf/layers) or [TensorFlow Layers (contrib)](https://www.tensorflow.org/api_guides/python/contrib.layers) packages to build each layer, except the layers you build in the \"Convolutional and Max Pooling Layer\" section.  TF Layers is similar to Keras's and TFLearn's abstraction to layers, so it's easy to pickup.\n",
    "\n",
    ">However, if you would like to get the most out of this course, try to solve all the problems _without_ using anything from the TF Layers packages. You **can** still use classes from other packages that happen to have the same name as ones you find in TF Layers! For example, instead of using the TF Layers version of the `conv2d` class, [tf.layers.conv2d](https://www.tensorflow.org/api_docs/python/tf/layers/conv2d), you would want to use the TF Neural Network version of `conv2d`, [tf.nn.conv2d](https://www.tensorflow.org/api_docs/python/tf/nn/conv2d). \n",
    "\n",
    "Let's begin!\n",
    "\n",
    "### Input\n",
    "The neural network needs to read the image data, one-hot encoded labels, and dropout keep probability. Implement the following functions\n",
    "* Implement `neural_net_image_input`\n",
    " * Return a [TF Placeholder](https://www.tensorflow.org/api_docs/python/tf/placeholder)\n",
    " * Set the shape using `image_shape` with batch size set to `None`.\n",
    " * Name the TensorFlow placeholder \"x\" using the TensorFlow `name` parameter in the [TF Placeholder](https://www.tensorflow.org/api_docs/python/tf/placeholder).\n",
    "* Implement `neural_net_label_input`\n",
    " * Return a [TF Placeholder](https://www.tensorflow.org/api_docs/python/tf/placeholder)\n",
    " * Set the shape using `n_classes` with batch size set to `None`.\n",
    " * Name the TensorFlow placeholder \"y\" using the TensorFlow `name` parameter in the [TF Placeholder](https://www.tensorflow.org/api_docs/python/tf/placeholder).\n",
    "* Implement `neural_net_keep_prob_input`\n",
    " * Return a [TF Placeholder](https://www.tensorflow.org/api_docs/python/tf/placeholder) for dropout keep probability.\n",
    " * Name the TensorFlow placeholder \"keep_prob\" using the TensorFlow `name` parameter in the [TF Placeholder](https://www.tensorflow.org/api_docs/python/tf/placeholder).\n",
    "\n",
    "These names will be used at the end of the project to load your saved model.\n",
    "\n",
    "Note: `None` for shapes in TensorFlow allow for a dynamic size."
   ]
  },
  {
   "cell_type": "code",
   "execution_count": 2,
   "metadata": {},
   "outputs": [
    {
     "name": "stdout",
     "output_type": "stream",
     "text": [
      "Image Input Tests Passed.\n",
      "Label Input Tests Passed.\n",
      "Keep Prob Tests Passed.\n"
     ]
    }
   ],
   "source": [
    "import tensorflow as tf\n",
    "\n",
    "def neural_net_image_input(image_shape):\n",
    "    \"\"\"\n",
    "    Return a Tensor for a batch of image input\n",
    "    : image_shape: Shape of the images\n",
    "    : return: Tensor for image input.\n",
    "    \"\"\"\n",
    "    return tf.placeholder(tf.float32, [None, *image_shape], name='x')\n",
    "\n",
    "\n",
    "def neural_net_label_input(n_classes):\n",
    "    \"\"\"\n",
    "    Return a Tensor for a batch of label input\n",
    "    : n_classes: Number of classes\n",
    "    : return: Tensor for label input.\n",
    "    \"\"\"\n",
    "    return tf.placeholder(tf.float32, [None, n_classes], 'y')\n",
    "\n",
    "\n",
    "def neural_net_keep_prob_input():\n",
    "    \"\"\"\n",
    "    Return a Tensor for keep probability\n",
    "    : return: Tensor for keep probability.\n",
    "    \"\"\"\n",
    "    return tf.placeholder(tf.float32, name='keep_prob')\n",
    "\n",
    "\n",
    "\"\"\"\n",
    "DON'T MODIFY ANYTHING IN THIS CELL THAT IS BELOW THIS LINE\n",
    "\"\"\"\n",
    "tf.reset_default_graph()\n",
    "tests.test_nn_image_inputs(neural_net_image_input)\n",
    "tests.test_nn_label_inputs(neural_net_label_input)\n",
    "tests.test_nn_keep_prob_inputs(neural_net_keep_prob_input)"
   ]
  },
  {
   "cell_type": "markdown",
   "metadata": {},
   "source": [
    "### Convolution and Max Pooling Layer\n",
    "Convolution layers have a lot of success with images. For this code cell, you should implement the function `conv2d_maxpool` to apply convolution then max pooling:\n",
    "* Create the weight and bias using `conv_ksize`, `conv_num_outputs` and the shape of `x_tensor`.\n",
    "* Apply a convolution to `x_tensor` using weight and `conv_strides`.\n",
    " * We recommend you use same padding, but you're welcome to use any padding.\n",
    "* Add bias\n",
    "* Add a nonlinear activation to the convolution.\n",
    "* Apply Max Pooling using `pool_ksize` and `pool_strides`.\n",
    " * We recommend you use same padding, but you're welcome to use any padding.\n",
    "\n",
    "**Note:** You **can't** use [TensorFlow Layers](https://www.tensorflow.org/api_docs/python/tf/layers) or [TensorFlow Layers (contrib)](https://www.tensorflow.org/api_guides/python/contrib.layers) for **this** layer, but you can still use TensorFlow's [Neural Network](https://www.tensorflow.org/api_docs/python/tf/nn) package. You may still use the shortcut option for all the **other** layers."
   ]
  },
  {
   "cell_type": "code",
   "execution_count": 3,
   "metadata": {},
   "outputs": [
    {
     "name": "stdout",
     "output_type": "stream",
     "text": [
      "Tests Passed\n"
     ]
    }
   ],
   "source": [
    "def conv2d_maxpool(x_tensor, conv_num_outputs, conv_ksize, conv_strides, pool_ksize, pool_strides):\n",
    "    \"\"\"\n",
    "    Apply convolution then max pooling to x_tensor\n",
    "    :param x_tensor: TensorFlow Tensor\n",
    "    :param conv_num_outputs: Number of outputs for the convolutional layer\n",
    "    :param conv_ksize: kernal size 2-D Tuple for the convolutional layer\n",
    "    :param conv_strides: Stride 2-D Tuple for convolution\n",
    "    :param pool_ksize: kernal size 2-D Tuple for pool\n",
    "    :param pool_strides: Stride 2-D Tuple for pool\n",
    "    : return: A tensor that represents convolution and max pooling of x_tensor\n",
    "    \"\"\"\n",
    "    W = tf.Variable(tf.truncated_normal(\n",
    "        [*conv_ksize, int(x_tensor.shape[-1]), conv_num_outputs], stddev=0.04\n",
    "    ))\n",
    "    b = tf.Variable(tf.zeros(conv_num_outputs))\n",
    "    conv_layer = tf.nn.conv2d(x_tensor, W, strides=[1, *conv_strides, 1],\n",
    "                              padding='SAME')\n",
    "    # add bias\n",
    "    conv_layer = tf.nn.bias_add(conv_layer, b)\n",
    "    # ReLu as activation\n",
    "    conv_layer = tf.nn.relu(conv_layer)\n",
    "    \n",
    "    if pool_ksize is not None:\n",
    "        # Max Pooling\n",
    "        conv_layer = tf.nn.max_pool(\n",
    "            conv_layer,\n",
    "            ksize=[1, *pool_ksize, 1],\n",
    "            strides=[1, *pool_strides, 1],\n",
    "            padding='SAME'\n",
    "        )\n",
    "    return conv_layer\n",
    "\n",
    "\n",
    "\"\"\"\n",
    "DON'T MODIFY ANYTHING IN THIS CELL THAT IS BELOW THIS LINE\n",
    "\"\"\"\n",
    "tests.test_con_pool(conv2d_maxpool)"
   ]
  },
  {
   "cell_type": "markdown",
   "metadata": {},
   "source": [
    "### Flatten Layer\n",
    "Implement the `flatten` function to change the dimension of `x_tensor` from a 4-D tensor to a 2-D tensor.  The output should be the shape (*Batch Size*, *Flattened Image Size*). Shortcut option: you can use classes from the [TensorFlow Layers](https://www.tensorflow.org/api_docs/python/tf/layers) or [TensorFlow Layers (contrib)](https://www.tensorflow.org/api_guides/python/contrib.layers) packages for this layer. For more of a challenge, only use other TensorFlow packages."
   ]
  },
  {
   "cell_type": "code",
   "execution_count": 4,
   "metadata": {},
   "outputs": [
    {
     "name": "stdout",
     "output_type": "stream",
     "text": [
      "Tests Passed\n"
     ]
    }
   ],
   "source": [
    "import numpy as np\n",
    "\n",
    "def flatten(x_tensor):\n",
    "    \"\"\"\n",
    "    Flatten x_tensor to (Batch Size, Flattened Image Size)\n",
    "    : x_tensor: A tensor of size (Batch Size, ...), where ... are the image dimensions.\n",
    "    : return: A tensor of size (Batch Size, Flattened Image Size).\n",
    "    \"\"\"\n",
    "    shape = x_tensor.shape.as_list()  # [None, 10, 30, 6]\n",
    "    dimension = np.prod(shape[1:])\n",
    "    return tf.reshape(x_tensor, [-1, dimension])\n",
    "\n",
    "\n",
    "\"\"\"\n",
    "DON'T MODIFY ANYTHING IN THIS CELL THAT IS BELOW THIS LINE\n",
    "\"\"\"\n",
    "tests.test_flatten(flatten)"
   ]
  },
  {
   "cell_type": "markdown",
   "metadata": {},
   "source": [
    "### Fully-Connected Layer\n",
    "Implement the `fully_conn` function to apply a fully connected layer to `x_tensor` with the shape (*Batch Size*, *num_outputs*). Shortcut option: you can use classes from the [TensorFlow Layers](https://www.tensorflow.org/api_docs/python/tf/layers) or [TensorFlow Layers (contrib)](https://www.tensorflow.org/api_guides/python/contrib.layers) packages for this layer. For more of a challenge, only use other TensorFlow packages."
   ]
  },
  {
   "cell_type": "code",
   "execution_count": 5,
   "metadata": {},
   "outputs": [
    {
     "name": "stdout",
     "output_type": "stream",
     "text": [
      "Tests Passed\n"
     ]
    }
   ],
   "source": [
    "def fully_conn(x_tensor, num_outputs):\n",
    "    \"\"\"\n",
    "    Apply a fully connected layer to x_tensor using weight and bias\n",
    "    : x_tensor: A 2-D tensor where the first dimension is batch size.\n",
    "    : num_outputs: The number of output that the new tensor should be.\n",
    "    : return: A 2-D tensor where the second dimension is num_outputs.\n",
    "    \"\"\"\n",
    "    shape = x_tensor.shape.as_list()\n",
    "    W = tf.Variable(tf.truncated_normal([shape[1], num_outputs], stddev=0.04))\n",
    "    b = tf.Variable(tf.zeros(num_outputs))\n",
    "    fc = tf.add(tf.matmul(x_tensor, W), b)\n",
    "    return tf.nn.relu(fc)\n",
    "\n",
    "\n",
    "\"\"\"\n",
    "DON'T MODIFY ANYTHING IN THIS CELL THAT IS BELOW THIS LINE\n",
    "\"\"\"\n",
    "tests.test_fully_conn(fully_conn)"
   ]
  },
  {
   "cell_type": "markdown",
   "metadata": {},
   "source": [
    "### Output Layer\n",
    "Implement the `output` function to apply a fully connected layer to `x_tensor` with the shape (*Batch Size*, *num_outputs*). Shortcut option: you can use classes from the [TensorFlow Layers](https://www.tensorflow.org/api_docs/python/tf/layers) or [TensorFlow Layers (contrib)](https://www.tensorflow.org/api_guides/python/contrib.layers) packages for this layer. For more of a challenge, only use other TensorFlow packages.\n",
    "\n",
    "**Note:** Activation, softmax, or cross entropy should **not** be applied to this."
   ]
  },
  {
   "cell_type": "code",
   "execution_count": 6,
   "metadata": {},
   "outputs": [
    {
     "name": "stdout",
     "output_type": "stream",
     "text": [
      "Tests Passed\n"
     ]
    }
   ],
   "source": [
    "def output(x_tensor, num_outputs):\n",
    "    \"\"\"\n",
    "    Apply a output layer to x_tensor using weight and bias\n",
    "    : x_tensor: A 2-D tensor where the first dimension is batch size.\n",
    "    : num_outputs: The number of output that the new tensor should be.\n",
    "    : return: A 2-D tensor where the second dimension is num_outputs.\n",
    "    \"\"\"\n",
    "    return tf.layers.dense(x_tensor, num_outputs)\n",
    "\n",
    "\n",
    "\"\"\"\n",
    "DON'T MODIFY ANYTHING IN THIS CELL THAT IS BELOW THIS LINE\n",
    "\"\"\"\n",
    "tests.test_output(output)"
   ]
  },
  {
   "cell_type": "markdown",
   "metadata": {},
   "source": [
    "### Create Convolutional Model\n",
    "Implement the function `conv_net` to create a convolutional neural network model. The function takes in a batch of images, `x`, and outputs logits.  Use the layers you created above to create this model:\n",
    "\n",
    "* Apply 1, 2, or 3 Convolution and Max Pool layers\n",
    "* Apply a Flatten Layer\n",
    "* Apply 1, 2, or 3 Fully Connected Layers\n",
    "* Apply an Output Layer\n",
    "* Return the output\n",
    "* Apply [TensorFlow's Dropout](https://www.tensorflow.org/api_docs/python/tf/nn/dropout) to one or more layers in the model using `keep_prob`. "
   ]
  },
  {
   "cell_type": "code",
   "execution_count": 14,
   "metadata": {},
   "outputs": [
    {
     "name": "stdout",
     "output_type": "stream",
     "text": [
      "Flattened output: (?, 16384)\n",
      "Flattened output: (?, 16384)\n",
      "Neural Network Built!\n"
     ]
    }
   ],
   "source": [
    "def conv_net(x, keep_prob):\n",
    "    \"\"\"\n",
    "    Create a convolutional neural network model\n",
    "    : x: Placeholder tensor that holds image data.\n",
    "    : keep_prob: Placeholder tensor that hold dropout keep probability.\n",
    "    : return: Tensor that represents logits\n",
    "    \"\"\"\n",
    "    # TODO: Apply 1, 2, or 3 Convolution and Max Pool layers\n",
    "    #    Play around with different number of outputs, kernel size and stride\n",
    "    # Function Definition from Above:\n",
    "    #    conv2d_maxpool(x_tensor, conv_num_outputs, conv_ksize, conv_strides, pool_ksize, pool_strides)\n",
    "    \n",
    "    # conv2d without pooling\n",
    "    conv = conv2d_maxpool(x, 64, (3,3), (1,1), None, None)\n",
    "    conv = conv2d_maxpool(x, 64, (3,3), (1,1), None, None)\n",
    "    conv = conv2d_maxpool(x, 64, (3,3), (1,1), (2,2), (2,2))\n",
    "    \n",
    "    # TODO: Apply a Flatten Layer\n",
    "    # Function Definition from Above:\n",
    "    #   flatten(x_tensor)\n",
    "    conv = flatten(conv)\n",
    "    print('Flattened output: {}'.format(conv.shape))\n",
    "    conv = tf.nn.dropout(conv, keep_prob)\n",
    "    \n",
    "    # TODO: Apply 1, 2, or 3 Fully Connected Layers\n",
    "    #    Play around with different number of outputs\n",
    "    # Function Definition from Above:\n",
    "    #   fully_conn(x_tensor, num_outputs)\n",
    "    conv = fully_conn(conv, 2048)\n",
    "    conv = tf.nn.dropout(conv, keep_prob)\n",
    "    conv = fully_conn(conv, 256)\n",
    "    \n",
    "    # TODO: Apply an Output Layer\n",
    "    #    Set this to the number of classes\n",
    "    # Function Definition from Above:\n",
    "    #   output(x_tensor, num_outputs)\n",
    "    conv = output(conv, 10)\n",
    "    \n",
    "    return conv\n",
    "\n",
    "\n",
    "\"\"\"\n",
    "DON'T MODIFY ANYTHING IN THIS CELL THAT IS BELOW THIS LINE\n",
    "\"\"\"\n",
    "\n",
    "##############################\n",
    "## Build the Neural Network ##\n",
    "##############################\n",
    "\n",
    "# Remove previous weights, bias, inputs, etc..\n",
    "tf.reset_default_graph()\n",
    "\n",
    "# Inputs\n",
    "x = neural_net_image_input((32, 32, 3))\n",
    "y = neural_net_label_input(10)\n",
    "keep_prob = neural_net_keep_prob_input()\n",
    "\n",
    "# Model\n",
    "logits = conv_net(x, keep_prob)\n",
    "\n",
    "# Name logits Tensor, so that is can be loaded from disk after training\n",
    "logits = tf.identity(logits, name='logits')\n",
    "\n",
    "# Loss and Optimizer\n",
    "cost = tf.reduce_mean(tf.nn.softmax_cross_entropy_with_logits(logits=logits, labels=y))\n",
    "optimizer = tf.train.AdamOptimizer().minimize(cost)\n",
    "\n",
    "# Accuracy\n",
    "correct_pred = tf.equal(tf.argmax(logits, 1), tf.argmax(y, 1))\n",
    "accuracy = tf.reduce_mean(tf.cast(correct_pred, tf.float32), name='accuracy')\n",
    "\n",
    "tests.test_conv_net(conv_net)"
   ]
  },
  {
   "cell_type": "markdown",
   "metadata": {},
   "source": [
    "## Train the Neural Network\n",
    "### Single Optimization\n",
    "Implement the function `train_neural_network` to do a single optimization.  The optimization should use `optimizer` to optimize in `session` with a `feed_dict` of the following:\n",
    "* `x` for image input\n",
    "* `y` for labels\n",
    "* `keep_prob` for keep probability for dropout\n",
    "\n",
    "This function will be called for each batch, so `tf.global_variables_initializer()` has already been called.\n",
    "\n",
    "Note: Nothing needs to be returned. This function is only optimizing the neural network."
   ]
  },
  {
   "cell_type": "code",
   "execution_count": 9,
   "metadata": {},
   "outputs": [
    {
     "name": "stdout",
     "output_type": "stream",
     "text": [
      "Tests Passed\n"
     ]
    }
   ],
   "source": [
    "def train_neural_network(session, optimizer, keep_probability, feature_batch, label_batch):\n",
    "    \"\"\"\n",
    "    Optimize the session on a batch of images and labels\n",
    "    : session: Current TensorFlow session\n",
    "    : optimizer: TensorFlow optimizer function\n",
    "    : keep_probability: keep probability\n",
    "    : feature_batch: Batch of Numpy image data\n",
    "    : label_batch: Batch of Numpy label data\n",
    "    \"\"\"\n",
    "    session.run(optimizer, feed_dict={\n",
    "        x: feature_batch,\n",
    "        y: label_batch,\n",
    "        keep_prob: keep_probability\n",
    "    })\n",
    "\n",
    "    \n",
    "\"\"\"\n",
    "DON'T MODIFY ANYTHING IN THIS CELL THAT IS BELOW THIS LINE\n",
    "\"\"\"\n",
    "tests.test_train_nn(train_neural_network)"
   ]
  },
  {
   "cell_type": "markdown",
   "metadata": {},
   "source": [
    "### Show Stats\n",
    "Implement the function `print_stats` to print loss and validation accuracy.  Use the global variables `valid_features` and `valid_labels` to calculate validation accuracy.  Use a keep probability of `1.0` to calculate the loss and validation accuracy."
   ]
  },
  {
   "cell_type": "code",
   "execution_count": 15,
   "metadata": {
    "collapsed": true
   },
   "outputs": [],
   "source": [
    "def print_stats(session, feature_batch, label_batch, cost, accuracy):\n",
    "    \"\"\"\n",
    "    Print information about loss and validation accuracy\n",
    "    : session: Current TensorFlow session\n",
    "    : feature_batch: Batch of Numpy image data\n",
    "    : label_batch: Batch of Numpy label data\n",
    "    : cost: TensorFlow cost function\n",
    "    : accuracy: TensorFlow accuracy function\n",
    "    \"\"\"\n",
    "    loss = session.run(cost, feed_dict={\n",
    "        x: feature_batch,\n",
    "        y: label_batch,\n",
    "        keep_prob: 1.\n",
    "    })\n",
    "    train_acc = session.run(accuracy, feed_dict={\n",
    "        x: feature_batch,\n",
    "        y: label_batch,\n",
    "        keep_prob: 1.\n",
    "    })\n",
    "    valid_acc = session.run(accuracy, feed_dict={\n",
    "        x: valid_features,\n",
    "        y: valid_labels,\n",
    "        keep_prob: 1.\n",
    "    })\n",
    "    print('Loss: {:>6.4f}, Training Acc: {:.4f}, Validation Acc: {:.4f}'\n",
    "          .format(loss, train_acc, valid_acc))"
   ]
  },
  {
   "cell_type": "markdown",
   "metadata": {},
   "source": [
    "### Hyperparameters\n",
    "Tune the following parameters:\n",
    "* Set `epochs` to the number of iterations until the network stops learning or start overfitting\n",
    "* Set `batch_size` to the highest number that your machine has memory for.  Most people set them to common sizes of memory:\n",
    " * 64\n",
    " * 128\n",
    " * 256\n",
    " * ...\n",
    "* Set `keep_probability` to the probability of keeping a node using dropout"
   ]
  },
  {
   "cell_type": "code",
   "execution_count": 31,
   "metadata": {
    "collapsed": true
   },
   "outputs": [],
   "source": [
    "# TODO: Tune Parameters\n",
    "epochs = 20\n",
    "batch_size = 1024\n",
    "keep_probability = 0.5"
   ]
  },
  {
   "cell_type": "markdown",
   "metadata": {},
   "source": [
    "### Train on a Single CIFAR-10 Batch\n",
    "Instead of training the neural network on all the CIFAR-10 batches of data, let's use a single batch. This should save time while you iterate on the model to get a better accuracy.  Once the final validation accuracy is 50% or greater, run the model on all the data in the next section."
   ]
  },
  {
   "cell_type": "code",
   "execution_count": 32,
   "metadata": {},
   "outputs": [
    {
     "name": "stdout",
     "output_type": "stream",
     "text": [
      "Checking the Training on a Single Batch...\n",
      "Epoch  1, CIFAR-10 Batch 1:  Loss: 2.2856, Training Acc: 0.1349, Validation Acc: 0.1390\n",
      "Epoch  2, CIFAR-10 Batch 1:  Loss: 2.2159, Training Acc: 0.1770, Validation Acc: 0.1712\n",
      "Epoch  3, CIFAR-10 Batch 1:  Loss: 2.0477, Training Acc: 0.2624, Validation Acc: 0.2570\n",
      "Epoch  4, CIFAR-10 Batch 1:  Loss: 1.8799, Training Acc: 0.3453, Validation Acc: 0.3354\n",
      "Epoch  5, CIFAR-10 Batch 1:  Loss: 1.7132, Training Acc: 0.4022, Validation Acc: 0.3864\n",
      "Epoch  6, CIFAR-10 Batch 1:  Loss: 1.5375, Training Acc: 0.4530, Validation Acc: 0.4258\n",
      "Epoch  7, CIFAR-10 Batch 1:  Loss: 1.4378, Training Acc: 0.5099, Validation Acc: 0.4536\n",
      "Epoch  8, CIFAR-10 Batch 1:  Loss: 1.3383, Training Acc: 0.5458, Validation Acc: 0.4702\n",
      "Epoch  9, CIFAR-10 Batch 1:  Loss: 1.2367, Training Acc: 0.5965, Validation Acc: 0.4970\n",
      "Epoch 10, CIFAR-10 Batch 1:  Loss: 1.1534, Training Acc: 0.6275, Validation Acc: 0.5068\n",
      "Epoch 11, CIFAR-10 Batch 1:  Loss: 1.1001, Training Acc: 0.6300, Validation Acc: 0.5200\n",
      "Epoch 12, CIFAR-10 Batch 1:  Loss: 1.0301, Training Acc: 0.6522, Validation Acc: 0.5350\n",
      "Epoch 13, CIFAR-10 Batch 1:  Loss: 0.9809, Training Acc: 0.6683, Validation Acc: 0.5426\n",
      "Epoch 14, CIFAR-10 Batch 1:  Loss: 0.9196, Training Acc: 0.6943, Validation Acc: 0.5510\n",
      "Epoch 15, CIFAR-10 Batch 1:  Loss: 0.8723, Training Acc: 0.7129, Validation Acc: 0.5538\n",
      "Epoch 16, CIFAR-10 Batch 1:  Loss: 0.8284, Training Acc: 0.7203, Validation Acc: 0.5584\n",
      "Epoch 17, CIFAR-10 Batch 1:  Loss: 0.7793, Training Acc: 0.7525, Validation Acc: 0.5628\n",
      "Epoch 18, CIFAR-10 Batch 1:  Loss: 0.7349, Training Acc: 0.7686, Validation Acc: 0.5618\n",
      "Epoch 19, CIFAR-10 Batch 1:  Loss: 0.6898, Training Acc: 0.7822, Validation Acc: 0.5678\n",
      "Epoch 20, CIFAR-10 Batch 1:  Loss: 0.6161, Training Acc: 0.8181, Validation Acc: 0.5772\n"
     ]
    }
   ],
   "source": [
    "\"\"\"\n",
    "DON'T MODIFY ANYTHING IN THIS CELL\n",
    "\"\"\"\n",
    "print('Checking the Training on a Single Batch...')\n",
    "with tf.Session() as sess:\n",
    "    # Initializing the variables\n",
    "    sess.run(tf.global_variables_initializer())\n",
    "    \n",
    "    # Training cycle\n",
    "    for epoch in range(epochs):\n",
    "        batch_i = 1\n",
    "        for batch_features, batch_labels in helper.load_preprocess_training_batch(batch_i, batch_size):\n",
    "            train_neural_network(sess, optimizer, keep_probability, batch_features, batch_labels)\n",
    "        print('Epoch {:>2}, CIFAR-10 Batch {}:  '.format(epoch + 1, batch_i), end='')\n",
    "        print_stats(sess, batch_features, batch_labels, cost, accuracy)"
   ]
  },
  {
   "cell_type": "markdown",
   "metadata": {},
   "source": [
    "### Fully Train the Model\n",
    "Now that you got a good accuracy with a single CIFAR-10 batch, try it with all five batches."
   ]
  },
  {
   "cell_type": "code",
   "execution_count": 33,
   "metadata": {},
   "outputs": [
    {
     "name": "stdout",
     "output_type": "stream",
     "text": [
      "Training...\n",
      "Epoch  1, CIFAR-10 Batch 1:  Loss: 2.2158, Training Acc: 0.2092, Validation Acc: 0.2188\n",
      "Epoch  1, CIFAR-10 Batch 2:  Loss: 1.9761, Training Acc: 0.2834, Validation Acc: 0.2828\n",
      "Epoch  1, CIFAR-10 Batch 3:  Loss: 1.7467, Training Acc: 0.3800, Validation Acc: 0.3418\n",
      "Epoch  1, CIFAR-10 Batch 4:  Loss: 1.6644, Training Acc: 0.4220, Validation Acc: 0.3898\n",
      "Epoch  1, CIFAR-10 Batch 5:  Loss: 1.5689, Training Acc: 0.4319, Validation Acc: 0.4220\n",
      "Epoch  2, CIFAR-10 Batch 1:  Loss: 1.5110, Training Acc: 0.4530, Validation Acc: 0.4590\n",
      "Epoch  2, CIFAR-10 Batch 2:  Loss: 1.4798, Training Acc: 0.4752, Validation Acc: 0.4712\n",
      "Epoch  2, CIFAR-10 Batch 3:  Loss: 1.3288, Training Acc: 0.5099, Validation Acc: 0.4988\n",
      "Epoch  2, CIFAR-10 Batch 4:  Loss: 1.3254, Training Acc: 0.5309, Validation Acc: 0.5192\n",
      "Epoch  2, CIFAR-10 Batch 5:  Loss: 1.2916, Training Acc: 0.5582, Validation Acc: 0.5174\n",
      "Epoch  3, CIFAR-10 Batch 1:  Loss: 1.2655, Training Acc: 0.5569, Validation Acc: 0.5344\n",
      "Epoch  3, CIFAR-10 Batch 2:  Loss: 1.2712, Training Acc: 0.5483, Validation Acc: 0.5358\n",
      "Epoch  3, CIFAR-10 Batch 3:  Loss: 1.1531, Training Acc: 0.5693, Validation Acc: 0.5528\n",
      "Epoch  3, CIFAR-10 Batch 4:  Loss: 1.1568, Training Acc: 0.6114, Validation Acc: 0.5652\n",
      "Epoch  3, CIFAR-10 Batch 5:  Loss: 1.1188, Training Acc: 0.6213, Validation Acc: 0.5582\n",
      "Epoch  4, CIFAR-10 Batch 1:  Loss: 1.1384, Training Acc: 0.6015, Validation Acc: 0.5674\n",
      "Epoch  4, CIFAR-10 Batch 2:  Loss: 1.1275, Training Acc: 0.5978, Validation Acc: 0.5718\n",
      "Epoch  4, CIFAR-10 Batch 3:  Loss: 1.0622, Training Acc: 0.6163, Validation Acc: 0.5762\n",
      "Epoch  4, CIFAR-10 Batch 4:  Loss: 1.0451, Training Acc: 0.6522, Validation Acc: 0.5854\n",
      "Epoch  4, CIFAR-10 Batch 5:  Loss: 0.9911, Training Acc: 0.6535, Validation Acc: 0.5956\n",
      "Epoch  5, CIFAR-10 Batch 1:  Loss: 1.0410, Training Acc: 0.6238, Validation Acc: 0.5972\n",
      "Epoch  5, CIFAR-10 Batch 2:  Loss: 1.0567, Training Acc: 0.6262, Validation Acc: 0.5904\n",
      "Epoch  5, CIFAR-10 Batch 3:  Loss: 0.9461, Training Acc: 0.6646, Validation Acc: 0.5984\n",
      "Epoch  5, CIFAR-10 Batch 4:  Loss: 0.9507, Training Acc: 0.6931, Validation Acc: 0.6074\n",
      "Epoch  5, CIFAR-10 Batch 5:  Loss: 0.8995, Training Acc: 0.6993, Validation Acc: 0.6108\n",
      "Epoch  6, CIFAR-10 Batch 1:  Loss: 0.9611, Training Acc: 0.6733, Validation Acc: 0.6126\n",
      "Epoch  6, CIFAR-10 Batch 2:  Loss: 0.9819, Training Acc: 0.6621, Validation Acc: 0.6084\n",
      "Epoch  6, CIFAR-10 Batch 3:  Loss: 0.8733, Training Acc: 0.6955, Validation Acc: 0.6144\n",
      "Epoch  6, CIFAR-10 Batch 4:  Loss: 0.9023, Training Acc: 0.6968, Validation Acc: 0.6166\n",
      "Epoch  6, CIFAR-10 Batch 5:  Loss: 0.8361, Training Acc: 0.7277, Validation Acc: 0.6234\n",
      "Epoch  7, CIFAR-10 Batch 1:  Loss: 0.8938, Training Acc: 0.7017, Validation Acc: 0.6288\n",
      "Epoch  7, CIFAR-10 Batch 2:  Loss: 0.8734, Training Acc: 0.7153, Validation Acc: 0.6310\n",
      "Epoch  7, CIFAR-10 Batch 3:  Loss: 0.8059, Training Acc: 0.7277, Validation Acc: 0.6258\n",
      "Epoch  7, CIFAR-10 Batch 4:  Loss: 0.8115, Training Acc: 0.7191, Validation Acc: 0.6354\n",
      "Epoch  7, CIFAR-10 Batch 5:  Loss: 0.7427, Training Acc: 0.7389, Validation Acc: 0.6360\n",
      "Epoch  8, CIFAR-10 Batch 1:  Loss: 0.8329, Training Acc: 0.7302, Validation Acc: 0.6346\n",
      "Epoch  8, CIFAR-10 Batch 2:  Loss: 0.7988, Training Acc: 0.7438, Validation Acc: 0.6446\n",
      "Epoch  8, CIFAR-10 Batch 3:  Loss: 0.7679, Training Acc: 0.7351, Validation Acc: 0.6260\n",
      "Epoch  8, CIFAR-10 Batch 4:  Loss: 0.7543, Training Acc: 0.7500, Validation Acc: 0.6458\n",
      "Epoch  8, CIFAR-10 Batch 5:  Loss: 0.6961, Training Acc: 0.7599, Validation Acc: 0.6466\n",
      "Epoch  9, CIFAR-10 Batch 1:  Loss: 0.7715, Training Acc: 0.7364, Validation Acc: 0.6482\n",
      "Epoch  9, CIFAR-10 Batch 2:  Loss: 0.7458, Training Acc: 0.7611, Validation Acc: 0.6520\n",
      "Epoch  9, CIFAR-10 Batch 3:  Loss: 0.6963, Training Acc: 0.7673, Validation Acc: 0.6486\n",
      "Epoch  9, CIFAR-10 Batch 4:  Loss: 0.7029, Training Acc: 0.7772, Validation Acc: 0.6588\n",
      "Epoch  9, CIFAR-10 Batch 5:  Loss: 0.6326, Training Acc: 0.8020, Validation Acc: 0.6564\n",
      "Epoch 10, CIFAR-10 Batch 1:  Loss: 0.7038, Training Acc: 0.7636, Validation Acc: 0.6562\n",
      "Epoch 10, CIFAR-10 Batch 2:  Loss: 0.6664, Training Acc: 0.7859, Validation Acc: 0.6640\n",
      "Epoch 10, CIFAR-10 Batch 3:  Loss: 0.6269, Training Acc: 0.7983, Validation Acc: 0.6634\n",
      "Epoch 10, CIFAR-10 Batch 4:  Loss: 0.6060, Training Acc: 0.8069, Validation Acc: 0.6714\n",
      "Epoch 10, CIFAR-10 Batch 5:  Loss: 0.5578, Training Acc: 0.8292, Validation Acc: 0.6730\n",
      "Epoch 11, CIFAR-10 Batch 1:  Loss: 0.6290, Training Acc: 0.7970, Validation Acc: 0.6684\n",
      "Epoch 11, CIFAR-10 Batch 2:  Loss: 0.6101, Training Acc: 0.8144, Validation Acc: 0.6728\n",
      "Epoch 11, CIFAR-10 Batch 3:  Loss: 0.5674, Training Acc: 0.8094, Validation Acc: 0.6672\n",
      "Epoch 11, CIFAR-10 Batch 4:  Loss: 0.5458, Training Acc: 0.8304, Validation Acc: 0.6760\n",
      "Epoch 11, CIFAR-10 Batch 5:  Loss: 0.5070, Training Acc: 0.8403, Validation Acc: 0.6792\n",
      "Epoch 12, CIFAR-10 Batch 1:  Loss: 0.6084, Training Acc: 0.7970, Validation Acc: 0.6584\n",
      "Epoch 12, CIFAR-10 Batch 2:  Loss: 0.5596, Training Acc: 0.8230, Validation Acc: 0.6702\n",
      "Epoch 12, CIFAR-10 Batch 3:  Loss: 0.5199, Training Acc: 0.8403, Validation Acc: 0.6724\n",
      "Epoch 12, CIFAR-10 Batch 4:  Loss: 0.5066, Training Acc: 0.8453, Validation Acc: 0.6776\n",
      "Epoch 12, CIFAR-10 Batch 5:  Loss: 0.4576, Training Acc: 0.8626, Validation Acc: 0.6780\n",
      "Epoch 13, CIFAR-10 Batch 1:  Loss: 0.5322, Training Acc: 0.8403, Validation Acc: 0.6772\n",
      "Epoch 13, CIFAR-10 Batch 2:  Loss: 0.5148, Training Acc: 0.8490, Validation Acc: 0.6774\n",
      "Epoch 13, CIFAR-10 Batch 3:  Loss: 0.4731, Training Acc: 0.8564, Validation Acc: 0.6716\n",
      "Epoch 13, CIFAR-10 Batch 4:  Loss: 0.4645, Training Acc: 0.8651, Validation Acc: 0.6830\n",
      "Epoch 13, CIFAR-10 Batch 5:  Loss: 0.4067, Training Acc: 0.8824, Validation Acc: 0.6802\n",
      "Epoch 14, CIFAR-10 Batch 1:  Loss: 0.4755, Training Acc: 0.8515, Validation Acc: 0.6830\n",
      "Epoch 14, CIFAR-10 Batch 2:  Loss: 0.4545, Training Acc: 0.8614, Validation Acc: 0.6908\n",
      "Epoch 14, CIFAR-10 Batch 3:  Loss: 0.4035, Training Acc: 0.8936, Validation Acc: 0.6876\n",
      "Epoch 14, CIFAR-10 Batch 4:  Loss: 0.3853, Training Acc: 0.8960, Validation Acc: 0.6836\n",
      "Epoch 14, CIFAR-10 Batch 5:  Loss: 0.3719, Training Acc: 0.9072, Validation Acc: 0.6826\n",
      "Epoch 15, CIFAR-10 Batch 1:  Loss: 0.4405, Training Acc: 0.8663, Validation Acc: 0.6778\n",
      "Epoch 15, CIFAR-10 Batch 2:  Loss: 0.4207, Training Acc: 0.8824, Validation Acc: 0.6858\n",
      "Epoch 15, CIFAR-10 Batch 3:  Loss: 0.3489, Training Acc: 0.9084, Validation Acc: 0.6874\n",
      "Epoch 15, CIFAR-10 Batch 4:  Loss: 0.3539, Training Acc: 0.8998, Validation Acc: 0.6864\n",
      "Epoch 15, CIFAR-10 Batch 5:  Loss: 0.3182, Training Acc: 0.9208, Validation Acc: 0.6796\n",
      "Epoch 16, CIFAR-10 Batch 1:  Loss: 0.3846, Training Acc: 0.8960, Validation Acc: 0.6844\n",
      "Epoch 16, CIFAR-10 Batch 2:  Loss: 0.3784, Training Acc: 0.9084, Validation Acc: 0.6810\n",
      "Epoch 16, CIFAR-10 Batch 3:  Loss: 0.3199, Training Acc: 0.9158, Validation Acc: 0.6974\n",
      "Epoch 16, CIFAR-10 Batch 4:  Loss: 0.3128, Training Acc: 0.9270, Validation Acc: 0.6834\n",
      "Epoch 16, CIFAR-10 Batch 5:  Loss: 0.2881, Training Acc: 0.9208, Validation Acc: 0.6858\n",
      "Epoch 17, CIFAR-10 Batch 1:  Loss: 0.3496, Training Acc: 0.9022, Validation Acc: 0.6820\n",
      "Epoch 17, CIFAR-10 Batch 2:  Loss: 0.3226, Training Acc: 0.9233, Validation Acc: 0.6918\n",
      "Epoch 17, CIFAR-10 Batch 3:  Loss: 0.3041, Training Acc: 0.9183, Validation Acc: 0.6802\n",
      "Epoch 17, CIFAR-10 Batch 4:  Loss: 0.2660, Training Acc: 0.9295, Validation Acc: 0.6912\n",
      "Epoch 17, CIFAR-10 Batch 5:  Loss: 0.2529, Training Acc: 0.9381, Validation Acc: 0.6802\n",
      "Epoch 18, CIFAR-10 Batch 1:  Loss: 0.3036, Training Acc: 0.9109, Validation Acc: 0.6912\n",
      "Epoch 18, CIFAR-10 Batch 2:  Loss: 0.3142, Training Acc: 0.9171, Validation Acc: 0.6760\n",
      "Epoch 18, CIFAR-10 Batch 3:  Loss: 0.2332, Training Acc: 0.9455, Validation Acc: 0.7022\n",
      "Epoch 18, CIFAR-10 Batch 4:  Loss: 0.2429, Training Acc: 0.9443, Validation Acc: 0.6910\n",
      "Epoch 18, CIFAR-10 Batch 5:  Loss: 0.2230, Training Acc: 0.9517, Validation Acc: 0.6786\n",
      "Epoch 19, CIFAR-10 Batch 1:  Loss: 0.3182, Training Acc: 0.9158, Validation Acc: 0.6772\n",
      "Epoch 19, CIFAR-10 Batch 2:  Loss: 0.2892, Training Acc: 0.9233, Validation Acc: 0.6854\n",
      "Epoch 19, CIFAR-10 Batch 3:  Loss: 0.2231, Training Acc: 0.9468, Validation Acc: 0.6946\n"
     ]
    },
    {
     "name": "stdout",
     "output_type": "stream",
     "text": [
      "Epoch 19, CIFAR-10 Batch 4:  Loss: 0.2196, Training Acc: 0.9554, Validation Acc: 0.6938\n",
      "Epoch 19, CIFAR-10 Batch 5:  Loss: 0.1809, Training Acc: 0.9715, Validation Acc: 0.6986\n",
      "Epoch 20, CIFAR-10 Batch 1:  Loss: 0.2677, Training Acc: 0.9319, Validation Acc: 0.6796\n",
      "Epoch 20, CIFAR-10 Batch 2:  Loss: 0.2393, Training Acc: 0.9369, Validation Acc: 0.6862\n",
      "Epoch 20, CIFAR-10 Batch 3:  Loss: 0.1884, Training Acc: 0.9616, Validation Acc: 0.6974\n",
      "Epoch 20, CIFAR-10 Batch 4:  Loss: 0.1922, Training Acc: 0.9604, Validation Acc: 0.6978\n",
      "Epoch 20, CIFAR-10 Batch 5:  Loss: 0.1639, Training Acc: 0.9765, Validation Acc: 0.7028\n"
     ]
    }
   ],
   "source": [
    "\"\"\"\n",
    "DON'T MODIFY ANYTHING IN THIS CELL\n",
    "\"\"\"\n",
    "save_model_path = './image_classification'\n",
    "\n",
    "print('Training...')\n",
    "with tf.Session() as sess:\n",
    "    # Initializing the variables\n",
    "    sess.run(tf.global_variables_initializer())\n",
    "    \n",
    "    # Training cycle\n",
    "    for epoch in range(epochs):\n",
    "        # Loop over all batches\n",
    "        n_batches = 5\n",
    "        for batch_i in range(1, n_batches + 1):\n",
    "            for batch_features, batch_labels in helper.load_preprocess_training_batch(batch_i, batch_size):\n",
    "                train_neural_network(sess, optimizer, keep_probability, batch_features, batch_labels)\n",
    "            print('Epoch {:>2}, CIFAR-10 Batch {}:  '.format(epoch + 1, batch_i), end='')\n",
    "            print_stats(sess, batch_features, batch_labels, cost, accuracy)\n",
    "            \n",
    "    # Save Model\n",
    "    saver = tf.train.Saver()\n",
    "    save_path = saver.save(sess, save_model_path)"
   ]
  },
  {
   "cell_type": "markdown",
   "metadata": {},
   "source": [
    "# Checkpoint\n",
    "The model has been saved to disk.\n",
    "## Test Model\n",
    "Test your model against the test dataset.  This will be your final accuracy. You should have an accuracy greater than 50%. If you don't, keep tweaking the model architecture and parameters."
   ]
  },
  {
   "cell_type": "code",
   "execution_count": 34,
   "metadata": {},
   "outputs": [
    {
     "name": "stdout",
     "output_type": "stream",
     "text": [
      "INFO:tensorflow:Restoring parameters from ./image_classification\n",
      "Testing Accuracy: 0.6995635390281677\n",
      "\n"
     ]
    },
    {
     "data": {
      "image/png": "[encoded data removed]",
      "text/plain": [
       "<matplotlib.figure.Figure at 0x10454dba8>"
      ]
     },
     "metadata": {
      "image/png": {
       "height": 319,
       "width": 355
      }
     },
     "output_type": "display_data"
    }
   ],
   "source": [
    "\"\"\"\n",
    "DON'T MODIFY ANYTHING IN THIS CELL\n",
    "\"\"\"\n",
    "%matplotlib inline\n",
    "%config InlineBackend.figure_format = 'retina'\n",
    "\n",
    "import tensorflow as tf\n",
    "import pickle\n",
    "import helper\n",
    "import random\n",
    "\n",
    "# Set batch size if not already set\n",
    "try:\n",
    "    if batch_size:\n",
    "        pass\n",
    "except NameError:\n",
    "    batch_size = 64\n",
    "\n",
    "save_model_path = './image_classification'\n",
    "n_samples = 4\n",
    "top_n_predictions = 3\n",
    "\n",
    "def test_model():\n",
    "    \"\"\"\n",
    "    Test the saved model against the test dataset\n",
    "    \"\"\"\n",
    "\n",
    "    test_features, test_labels = pickle.load(open('preprocess_test.p', mode='rb'))\n",
    "    loaded_graph = tf.Graph()\n",
    "\n",
    "    with tf.Session(graph=loaded_graph) as sess:\n",
    "        # Load model\n",
    "        loader = tf.train.import_meta_graph(save_model_path + '.meta')\n",
    "        loader.restore(sess, save_model_path)\n",
    "\n",
    "        # Get Tensors from loaded model\n",
    "        loaded_x = loaded_graph.get_tensor_by_name('x:0')\n",
    "        loaded_y = loaded_graph.get_tensor_by_name('y:0')\n",
    "        loaded_keep_prob = loaded_graph.get_tensor_by_name('keep_prob:0')\n",
    "        loaded_logits = loaded_graph.get_tensor_by_name('logits:0')\n",
    "        loaded_acc = loaded_graph.get_tensor_by_name('accuracy:0')\n",
    "        \n",
    "        # Get accuracy in batches for memory limitations\n",
    "        test_batch_acc_total = 0\n",
    "        test_batch_count = 0\n",
    "        \n",
    "        for test_feature_batch, test_label_batch in helper.batch_features_labels(test_features, test_labels, batch_size):\n",
    "            test_batch_acc_total += sess.run(\n",
    "                loaded_acc,\n",
    "                feed_dict={loaded_x: test_feature_batch, loaded_y: test_label_batch, loaded_keep_prob: 1.0})\n",
    "            test_batch_count += 1\n",
    "\n",
    "        print('Testing Accuracy: {}\\n'.format(test_batch_acc_total/test_batch_count))\n",
    "\n",
    "        # Print Random Samples\n",
    "        random_test_features, random_test_labels = tuple(zip(*random.sample(list(zip(test_features, test_labels)), n_samples)))\n",
    "        random_test_predictions = sess.run(\n",
    "            tf.nn.top_k(tf.nn.softmax(loaded_logits), top_n_predictions),\n",
    "            feed_dict={loaded_x: random_test_features, loaded_y: random_test_labels, loaded_keep_prob: 1.0})\n",
    "        helper.display_image_predictions(random_test_features, random_test_labels, random_test_predictions)\n",
    "\n",
    "\n",
    "test_model()"
   ]
  },
  {
   "cell_type": "markdown",
   "metadata": {},
   "source": [
    "## Why 50-80% Accuracy?\n",
    "You might be wondering why you can't get an accuracy any higher. First things first, 50% isn't bad for a simple CNN.  Pure guessing would get you 10% accuracy. However, you might notice people are getting scores [well above 80%](http://rodrigob.github.io/are_we_there_yet/build/classification_datasets_results.html#43494641522d3130).  That's because we haven't taught you all there is to know about neural networks. We still need to cover a few more techniques.\n",
    "## Submitting This Project\n",
    "When submitting this project, make sure to run all the cells before saving the notebook.  Save the notebook file as \"dlnd_image_classification.ipynb\" and save it as a HTML file under \"File\" -> \"Download as\".  Include the \"helper.py\" and \"problem_unittests.py\" files in your submission."
   ]
  }
 ],
 "metadata": {
  "kernelspec": {
   "display_name": "Python 3",
   "language": "python",
   "name": "python3"
  },
  "language_info": {
   "codemirror_mode": {
    "name": "ipython",
    "version": 3
   },
   "file_extension": ".py",
   "mimetype": "text/x-python",
   "name": "python",
   "nbconvert_exporter": "python",
   "pygments_lexer": "ipython3",
   "version": "3.5.3"
  },
  "toc": {
   "nav_menu": {},
   "number_sections": true,
   "sideBar": true,
   "skip_h1_title": false,
   "toc_cell": false,
   "toc_position": {},
   "toc_section_display": "block",
   "toc_window_display": true
  }
 },
 "nbformat": 4,
 "nbformat_minor": 1
}
